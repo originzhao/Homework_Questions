{
 "cells": [
  {
   "cell_type": "code",
   "execution_count": 10,
   "id": "65a64766",
   "metadata": {},
   "outputs": [],
   "source": [
    "import pandas as pd\n",
    "import numpy as np\n",
    "import matplotlib.pylab as plt\n",
    "import seaborn as sns\n",
    "from sklearn.cluster import DBSCAN\n",
    "\n",
    "from category_encoders import TargetEncoder\n",
    "\n",
    "from sklearn.preprocessing import StandardScaler\n",
    "\n",
    "pd.set_option('display.max_columns', None)"
   ]
  },
  {
   "cell_type": "code",
   "execution_count": 40,
   "id": "5759d678",
   "metadata": {},
   "outputs": [],
   "source": [
    "'''\n",
    "import and join test and user\n",
    "write test user_join to disk \n",
    "'''\n",
    "test = pd.read_csv('C:\\\\Users\\\\xzhao\\\\Data\\\\Spanish_Translation\\\\test_table.csv')\n",
    "user = pd.read_csv('C:\\\\Users\\\\xzhao\\\\Data\\\\Spanish_Translation\\\\user_table.csv')\n",
    "tu_join = pd.merge(test, user, on='user_id', how='left')\n",
    "tu_join.to_csv('C:\\\\Users\\\\xzhao\\\\Data\\\\Spanish_Translation\\\\tu_join.csv', index=False)"
   ]
  },
  {
   "cell_type": "code",
   "execution_count": 134,
   "id": "85005b80",
   "metadata": {},
   "outputs": [],
   "source": [
    "otu_join = pd.read_csv('C:\\\\Users\\\\xzhao\\\\Data\\\\Spanish_Translation\\\\tu_join.csv')\n",
    "tu_join = pd.read_csv('C:\\\\Users\\\\xzhao\\\\Data\\\\Spanish_Translation\\\\tu_join.csv')"
   ]
  },
  {
   "cell_type": "code",
   "execution_count": 132,
   "id": "1683f0b5",
   "metadata": {},
   "outputs": [],
   "source": [
    "'''\n",
    "understand feature\n",
    "unique count and if less than 20, unique value\n",
    "Nan samples\n",
    "data description\n",
    "'''\n",
    "def ud(df,feature):\n",
    "    print('unique value count', df[feature].nunique())\n",
    "    if df[feature].nunique()<20:\n",
    "        print('unique value', df[feature].unique())\n",
    "    print('empty records:',  df[feature].isna().sum(), '\\n',df[df[feature].isna()].head(3))\n",
    "    print('data description:', df[feature].describe())"
   ]
  },
  {
   "cell_type": "code",
   "execution_count": 71,
   "id": "1b412da8",
   "metadata": {},
   "outputs": [],
   "source": [
    "'''\n",
    "trim down irrelevant samples for the purpose of the project\n",
    "    non-spanish views\n",
    "    na record\n",
    "    Spain users\n",
    "need to test if those removed are skewed\n",
    "'''\n",
    "\n",
    "tu_join = tu_join[tu_join['browser_language']=='ES']\n",
    "tu_join = tu_join[tu_join['country'].notna()]\n",
    "tu_join = tu_join[tu_join['country']!='Spain']"
   ]
  },
  {
   "cell_type": "code",
   "execution_count": 73,
   "id": "cf743976",
   "metadata": {
    "scrolled": true
   },
   "outputs": [
    {
     "name": "stdout",
     "output_type": "stream",
     "text": [
      "(334014, 12)\n"
     ]
    },
    {
     "data": {
      "text/html": [
       "<div>\n",
       "<style scoped>\n",
       "    .dataframe tbody tr th:only-of-type {\n",
       "        vertical-align: middle;\n",
       "    }\n",
       "\n",
       "    .dataframe tbody tr th {\n",
       "        vertical-align: top;\n",
       "    }\n",
       "\n",
       "    .dataframe thead th {\n",
       "        text-align: right;\n",
       "    }\n",
       "</style>\n",
       "<table border=\"1\" class=\"dataframe\">\n",
       "  <thead>\n",
       "    <tr style=\"text-align: right;\">\n",
       "      <th></th>\n",
       "      <th>user_id</th>\n",
       "      <th>date</th>\n",
       "      <th>source</th>\n",
       "      <th>device</th>\n",
       "      <th>browser_language</th>\n",
       "      <th>ads_channel</th>\n",
       "      <th>browser</th>\n",
       "      <th>conversion</th>\n",
       "      <th>test</th>\n",
       "      <th>sex</th>\n",
       "      <th>age</th>\n",
       "      <th>country</th>\n",
       "    </tr>\n",
       "  </thead>\n",
       "  <tbody>\n",
       "    <tr>\n",
       "      <th>1</th>\n",
       "      <td>497851</td>\n",
       "      <td>2015-12-04</td>\n",
       "      <td>Ads</td>\n",
       "      <td>Web</td>\n",
       "      <td>ES</td>\n",
       "      <td>Google</td>\n",
       "      <td>IE</td>\n",
       "      <td>0</td>\n",
       "      <td>1</td>\n",
       "      <td>M</td>\n",
       "      <td>21.0</td>\n",
       "      <td>Mexico</td>\n",
       "    </tr>\n",
       "    <tr>\n",
       "      <th>4</th>\n",
       "      <td>548435</td>\n",
       "      <td>2015-11-30</td>\n",
       "      <td>Ads</td>\n",
       "      <td>Web</td>\n",
       "      <td>ES</td>\n",
       "      <td>Google</td>\n",
       "      <td>FireFox</td>\n",
       "      <td>0</td>\n",
       "      <td>1</td>\n",
       "      <td>M</td>\n",
       "      <td>19.0</td>\n",
       "      <td>Mexico</td>\n",
       "    </tr>\n",
       "    <tr>\n",
       "      <th>5</th>\n",
       "      <td>540675</td>\n",
       "      <td>2015-12-03</td>\n",
       "      <td>Direct</td>\n",
       "      <td>Mobile</td>\n",
       "      <td>ES</td>\n",
       "      <td>NaN</td>\n",
       "      <td>Android_App</td>\n",
       "      <td>0</td>\n",
       "      <td>1</td>\n",
       "      <td>F</td>\n",
       "      <td>22.0</td>\n",
       "      <td>Venezuela</td>\n",
       "    </tr>\n",
       "    <tr>\n",
       "      <th>8</th>\n",
       "      <td>261625</td>\n",
       "      <td>2015-12-04</td>\n",
       "      <td>Direct</td>\n",
       "      <td>Mobile</td>\n",
       "      <td>ES</td>\n",
       "      <td>NaN</td>\n",
       "      <td>Android_App</td>\n",
       "      <td>0</td>\n",
       "      <td>1</td>\n",
       "      <td>M</td>\n",
       "      <td>31.0</td>\n",
       "      <td>Bolivia</td>\n",
       "    </tr>\n",
       "    <tr>\n",
       "      <th>9</th>\n",
       "      <td>10427</td>\n",
       "      <td>2015-12-04</td>\n",
       "      <td>Ads</td>\n",
       "      <td>Mobile</td>\n",
       "      <td>ES</td>\n",
       "      <td>Facebook</td>\n",
       "      <td>Android_App</td>\n",
       "      <td>0</td>\n",
       "      <td>0</td>\n",
       "      <td>F</td>\n",
       "      <td>33.0</td>\n",
       "      <td>Mexico</td>\n",
       "    </tr>\n",
       "  </tbody>\n",
       "</table>\n",
       "</div>"
      ],
      "text/plain": [
       "   user_id        date  source  device browser_language ads_channel  \\\n",
       "1   497851  2015-12-04     Ads     Web               ES      Google   \n",
       "4   548435  2015-11-30     Ads     Web               ES      Google   \n",
       "5   540675  2015-12-03  Direct  Mobile               ES         NaN   \n",
       "8   261625  2015-12-04  Direct  Mobile               ES         NaN   \n",
       "9    10427  2015-12-04     Ads  Mobile               ES    Facebook   \n",
       "\n",
       "       browser  conversion  test sex   age    country  \n",
       "1           IE           0     1   M  21.0     Mexico  \n",
       "4      FireFox           0     1   M  19.0     Mexico  \n",
       "5  Android_App           0     1   F  22.0  Venezuela  \n",
       "8  Android_App           0     1   M  31.0    Bolivia  \n",
       "9  Android_App           0     0   F  33.0     Mexico  "
      ]
     },
     "execution_count": 73,
     "metadata": {},
     "output_type": "execute_result"
    }
   ],
   "source": [
    "print(tu_join.shape)\n",
    "tu_join.head()"
   ]
  },
  {
   "cell_type": "code",
   "execution_count": 136,
   "id": "ec581087",
   "metadata": {
    "scrolled": false
   },
   "outputs": [
    {
     "name": "stdout",
     "output_type": "stream",
     "text": [
      "unique value count 1\n",
      "unique value ['ES']\n",
      "empty records: 0 \n",
      " Empty DataFrame\n",
      "Columns: [user_id, date, source, device, browser_language, ads_channel, browser, conversion, test, sex, age, country]\n",
      "Index: []\n",
      "data description: count     334014\n",
      "unique         1\n",
      "top           ES\n",
      "freq      334014\n",
      "Name: browser_language, dtype: object\n"
     ]
    }
   ],
   "source": [
    "ud(tu_join,'browser_language')"
   ]
  },
  {
   "cell_type": "code",
   "execution_count": 137,
   "id": "31860cb4",
   "metadata": {},
   "outputs": [],
   "source": [
    "'''\n",
    "test control split\n",
    "'''\n",
    "group_test = tu_join[tu_join['test']==1]\n",
    "group_control = tu_join[tu_join['test']==0]"
   ]
  },
  {
   "cell_type": "code",
   "execution_count": 138,
   "id": "25dbdf75",
   "metadata": {
    "scrolled": false
   },
   "outputs": [
    {
     "name": "stdout",
     "output_type": "stream",
     "text": [
      "179598 154416\n",
      "7816 7508\n"
     ]
    }
   ],
   "source": [
    "'''\n",
    "sanity check\n",
    "'''\n",
    "print(len(group_test),len(group_control))\n",
    "print(group_test['conversion'].sum(),group_control['conversion'].sum())"
   ]
  },
  {
   "cell_type": "code",
   "execution_count": 140,
   "id": "fb04d14f",
   "metadata": {
    "scrolled": false
   },
   "outputs": [
    {
     "name": "stdout",
     "output_type": "stream",
     "text": [
      "H0: There are no significant difference between universal translation and localized translation\n",
      "t-statistic: 6.999966062026151\n",
      "p-value: 2.5652349687868958e-12\n",
      "Different distributions (reject H0)\n",
      "Control group performs better (universal translation performs better)\n"
     ]
    }
   ],
   "source": [
    "'''\n",
    "define H0\n",
    "calculate t and p\n",
    "interperate results\n",
    "'''\n",
    "\n",
    "from scipy.stats import ttest_ind\n",
    "\n",
    "t_stat, p_value = ttest_ind(group_control['conversion'],group_test['conversion'], equal_var=False)\n",
    "\n",
    "print('H0: There are no significant difference between universal translation and localized translation')\n",
    "print('t-statistic:', t_stat)\n",
    "print('p-value:', p_value)\n",
    "\n",
    "alpha = 0.05\n",
    "if p_value > alpha:\n",
    "    print('Same distributions (fail to reject H0)')\n",
    "else:\n",
    "    print('Different distributions (reject H0)')\n",
    "    \n",
    "if t_stat > 0:\n",
    "    print('Control group performs better (universal translation performs better)')\n",
    "else:\n",
    "    print('Test group performs better (localized translation performs better)')"
   ]
  },
  {
   "cell_type": "markdown",
   "id": "767a2498",
   "metadata": {},
   "source": [
    "# Solidify conclusion\n",
    "## Control for confounding variables"
   ]
  },
  {
   "cell_type": "code",
   "execution_count": 187,
   "id": "f3de4892",
   "metadata": {},
   "outputs": [],
   "source": [
    "def AB(data,column,list):\n",
    "    \n",
    "    '''\n",
    "    control for column with criteria of list\n",
    "    '''\n",
    "    df = data[data[column].isin(list)]\n",
    "    \n",
    "    '''\n",
    "    test control split\n",
    "    '''\n",
    "    group_test = df[df['test']==1]\n",
    "    group_control = df[df['test']==0]\n",
    "\n",
    "    '''\n",
    "    sanity check\n",
    "    '''\n",
    "    print('T:C',len(group_test),len(group_control))\n",
    "    print('T_convert:C_convert',group_test['conversion'].sum(),group_control['conversion'].sum())\n",
    "    print('------------------')\n",
    "\n",
    "    '''\n",
    "    define H0\n",
    "    calculate t and p\n",
    "    interperate results\n",
    "    '''\n",
    "\n",
    "    from scipy.stats import ttest_ind\n",
    "\n",
    "    t_stat, p_value = ttest_ind(group_control['conversion'],group_test['conversion'], equal_var=False)\n",
    "\n",
    "    print('H0: There are no significant difference between universal translation and localized translation')\n",
    "    print('------------------')\n",
    "    print('t-statistic:', t_stat)\n",
    "    print('p-value:', p_value)\n",
    "    print('------------------')\n",
    "\n",
    "    alpha = 0.05\n",
    "    if p_value > alpha:\n",
    "        print('Same distributions (fail to reject H0)')\n",
    "    else:\n",
    "        print('Different distributions (reject H0)')\n",
    "\n",
    "    if t_stat > 0:\n",
    "        print('Control group performs better (universal translation performs better)')\n",
    "    else:\n",
    "        print('Test group performs better (localized translation performs better)')\n",
    "    \n",
    "    return t_stat\n",
    "    return p_value"
   ]
  },
  {
   "cell_type": "code",
   "execution_count": 193,
   "id": "c6bd46ee",
   "metadata": {
    "scrolled": true
   },
   "outputs": [
    {
     "name": "stdout",
     "output_type": "stream",
     "text": [
      "date ['2015-12-03', '2015-12-04', '2015-11-30', '2015-12-01', '2015-12-02']\n",
      "source ['Direct', 'Ads', 'SEO']\n",
      "device ['Web', 'Mobile']\n",
      "browser_language ['ES', 'Other', 'EN']\n",
      "ads_channel [nan, 'Google', 'Facebook', 'Bing', 'Yahoo', 'Other']\n",
      "browser ['IE', 'Chrome', 'Android_App', 'FireFox', 'Iphone_App', 'Safari', 'Opera']\n",
      "conversion [1, 0]\n",
      "test [0, 1]\n",
      "sex ['M', 'F', nan]\n",
      "country ['Spain', 'Mexico', 'Venezuela', 'Bolivia', 'Colombia', 'Uruguay', 'El Salvador', 'Nicaragua', 'Peru', 'Costa Rica', 'Chile', 'Argentina', 'Ecuador', 'Guatemala', 'Honduras', 'Paraguay', 'Panama', nan]\n"
     ]
    }
   ],
   "source": [
    "for i in otu_join.columns.tolist():\n",
    "    if otu_join[i].nunique()<20:\n",
    "        print (i,otu_join[i].unique().tolist())"
   ]
  },
  {
   "cell_type": "code",
   "execution_count": 188,
   "id": "e498e942",
   "metadata": {
    "scrolled": true
   },
   "outputs": [
    {
     "name": "stdout",
     "output_type": "stream",
     "text": [
      "T:C 3082 3007\n",
      "T_convert:C_convert 145 142\n",
      "------------------\n",
      "H0: There are no significant difference between universal translation and localized translation\n",
      "------------------\n",
      "t-statistic: 0.03235194731360059\n",
      "p-value: 0.9741924443436722\n",
      "------------------\n",
      "Same distributions (fail to reject H0)\n",
      "Control group performs better (universal translation performs better)\n"
     ]
    },
    {
     "data": {
      "text/plain": [
       "0.03235194731360059"
      ]
     },
     "execution_count": 188,
     "metadata": {},
     "output_type": "execute_result"
    }
   ],
   "source": [
    "AB(tu_join,'country',['Paraguay'])"
   ]
  },
  {
   "cell_type": "code",
   "execution_count": 191,
   "id": "2e17818f",
   "metadata": {},
   "outputs": [
    {
     "ename": "TypeError",
     "evalue": "only list-like objects are allowed to be passed to isin(), you passed a [int64]",
     "output_type": "error",
     "traceback": [
      "\u001b[1;31m---------------------------------------------------------------------------\u001b[0m",
      "\u001b[1;31mTypeError\u001b[0m                                 Traceback (most recent call last)",
      "\u001b[1;32m~\\AppData\\Local\\Temp\\ipykernel_25332\\3286709217.py\u001b[0m in \u001b[0;36m<module>\u001b[1;34m\u001b[0m\n\u001b[0;32m      1\u001b[0m \u001b[1;32mfor\u001b[0m \u001b[0mi\u001b[0m \u001b[1;32min\u001b[0m \u001b[0motu_join\u001b[0m\u001b[1;33m.\u001b[0m\u001b[0mcolumns\u001b[0m\u001b[1;33m.\u001b[0m\u001b[0mtolist\u001b[0m\u001b[1;33m(\u001b[0m\u001b[1;33m)\u001b[0m\u001b[1;33m:\u001b[0m\u001b[1;33m\u001b[0m\u001b[1;33m\u001b[0m\u001b[0m\n\u001b[0;32m      2\u001b[0m     \u001b[1;32mfor\u001b[0m \u001b[0mj\u001b[0m \u001b[1;32min\u001b[0m \u001b[0motu_join\u001b[0m\u001b[1;33m[\u001b[0m\u001b[0mi\u001b[0m\u001b[1;33m]\u001b[0m\u001b[1;33m.\u001b[0m\u001b[0munique\u001b[0m\u001b[1;33m(\u001b[0m\u001b[1;33m)\u001b[0m\u001b[1;33m:\u001b[0m\u001b[1;33m\u001b[0m\u001b[1;33m\u001b[0m\u001b[0m\n\u001b[1;32m----> 3\u001b[1;33m         \u001b[0mprint\u001b[0m\u001b[1;33m(\u001b[0m\u001b[0mAB\u001b[0m\u001b[1;33m(\u001b[0m\u001b[0motu_join\u001b[0m\u001b[1;33m,\u001b[0m\u001b[0mi\u001b[0m\u001b[1;33m,\u001b[0m\u001b[0mj\u001b[0m\u001b[1;33m)\u001b[0m\u001b[1;33m)\u001b[0m\u001b[1;33m\u001b[0m\u001b[1;33m\u001b[0m\u001b[0m\n\u001b[0m\u001b[0;32m      4\u001b[0m \u001b[1;31m#         if AB(otu_join,i,j).p_value>0.05:\u001b[0m\u001b[1;33m\u001b[0m\u001b[1;33m\u001b[0m\u001b[0m\n\u001b[0;32m      5\u001b[0m \u001b[1;31m#             print (i,j,AB(otu_join,i,j).p_value,'fail to reject H0')\u001b[0m\u001b[1;33m\u001b[0m\u001b[1;33m\u001b[0m\u001b[0m\n",
      "\u001b[1;32m~\\AppData\\Local\\Temp\\ipykernel_25332\\3012663092.py\u001b[0m in \u001b[0;36mAB\u001b[1;34m(data, column, list)\u001b[0m\n\u001b[0;32m      4\u001b[0m     \u001b[0mcontrol\u001b[0m \u001b[1;32mfor\u001b[0m \u001b[0mcolumn\u001b[0m \u001b[1;32mwith\u001b[0m \u001b[0mcriteria\u001b[0m \u001b[0mof\u001b[0m \u001b[0mlist\u001b[0m\u001b[1;33m\u001b[0m\u001b[1;33m\u001b[0m\u001b[0m\n\u001b[0;32m      5\u001b[0m     '''\n\u001b[1;32m----> 6\u001b[1;33m     \u001b[0mdf\u001b[0m \u001b[1;33m=\u001b[0m \u001b[0mdata\u001b[0m\u001b[1;33m[\u001b[0m\u001b[0mdata\u001b[0m\u001b[1;33m[\u001b[0m\u001b[0mcolumn\u001b[0m\u001b[1;33m]\u001b[0m\u001b[1;33m.\u001b[0m\u001b[0misin\u001b[0m\u001b[1;33m(\u001b[0m\u001b[0mlist\u001b[0m\u001b[1;33m)\u001b[0m\u001b[1;33m]\u001b[0m\u001b[1;33m\u001b[0m\u001b[1;33m\u001b[0m\u001b[0m\n\u001b[0m\u001b[0;32m      7\u001b[0m \u001b[1;33m\u001b[0m\u001b[0m\n\u001b[0;32m      8\u001b[0m     '''\n",
      "\u001b[1;32m~\\anaconda3\\lib\\site-packages\\pandas\\core\\series.py\u001b[0m in \u001b[0;36misin\u001b[1;34m(self, values)\u001b[0m\n\u001b[0;32m   5139\u001b[0m         \u001b[0mdtype\u001b[0m\u001b[1;33m:\u001b[0m \u001b[0mbool\u001b[0m\u001b[1;33m\u001b[0m\u001b[1;33m\u001b[0m\u001b[0m\n\u001b[0;32m   5140\u001b[0m         \"\"\"\n\u001b[1;32m-> 5141\u001b[1;33m         \u001b[0mresult\u001b[0m \u001b[1;33m=\u001b[0m \u001b[0malgorithms\u001b[0m\u001b[1;33m.\u001b[0m\u001b[0misin\u001b[0m\u001b[1;33m(\u001b[0m\u001b[0mself\u001b[0m\u001b[1;33m.\u001b[0m\u001b[0m_values\u001b[0m\u001b[1;33m,\u001b[0m \u001b[0mvalues\u001b[0m\u001b[1;33m)\u001b[0m\u001b[1;33m\u001b[0m\u001b[1;33m\u001b[0m\u001b[0m\n\u001b[0m\u001b[0;32m   5142\u001b[0m         return self._constructor(result, index=self.index).__finalize__(\n\u001b[0;32m   5143\u001b[0m             \u001b[0mself\u001b[0m\u001b[1;33m,\u001b[0m \u001b[0mmethod\u001b[0m\u001b[1;33m=\u001b[0m\u001b[1;34m\"isin\"\u001b[0m\u001b[1;33m\u001b[0m\u001b[1;33m\u001b[0m\u001b[0m\n",
      "\u001b[1;32m~\\anaconda3\\lib\\site-packages\\pandas\\core\\algorithms.py\u001b[0m in \u001b[0;36misin\u001b[1;34m(comps, values)\u001b[0m\n\u001b[0;32m    466\u001b[0m         )\n\u001b[0;32m    467\u001b[0m     \u001b[1;32mif\u001b[0m \u001b[1;32mnot\u001b[0m \u001b[0mis_list_like\u001b[0m\u001b[1;33m(\u001b[0m\u001b[0mvalues\u001b[0m\u001b[1;33m)\u001b[0m\u001b[1;33m:\u001b[0m\u001b[1;33m\u001b[0m\u001b[1;33m\u001b[0m\u001b[0m\n\u001b[1;32m--> 468\u001b[1;33m         raise TypeError(\n\u001b[0m\u001b[0;32m    469\u001b[0m             \u001b[1;34m\"only list-like objects are allowed to be passed \"\u001b[0m\u001b[1;33m\u001b[0m\u001b[1;33m\u001b[0m\u001b[0m\n\u001b[0;32m    470\u001b[0m             \u001b[1;34mf\"to isin(), you passed a [{type(values).__name__}]\"\u001b[0m\u001b[1;33m\u001b[0m\u001b[1;33m\u001b[0m\u001b[0m\n",
      "\u001b[1;31mTypeError\u001b[0m: only list-like objects are allowed to be passed to isin(), you passed a [int64]"
     ]
    }
   ],
   "source": [
    "'''\n",
    "what im trying to do here is to find those training samples (defined by column name and value of that sample under the column)\n",
    "that have a p value > alpha \n",
    "\n",
    "if there are no such samples or these samples consists a small slice of the original data frame, i can  feel confident about AB test's\n",
    "conclusion\n",
    "'''\n",
    "\n",
    "for i in otu_join.columns.tolist():\n",
    "    for j in otu_join[i].unique():\n",
    "        print(AB(otu_join,i,j))\n",
    "#         if AB(otu_join,i,j).p_value>0.05:\n",
    "#             print (i,j,AB(otu_join,i,j).p_value,'fail to reject H0')"
   ]
  },
  {
   "cell_type": "code",
   "execution_count": null,
   "id": "d25d93f2",
   "metadata": {},
   "outputs": [],
   "source": []
  }
 ],
 "metadata": {
  "kernelspec": {
   "display_name": "Python 3 (ipykernel)",
   "language": "python",
   "name": "python3"
  },
  "language_info": {
   "codemirror_mode": {
    "name": "ipython",
    "version": 3
   },
   "file_extension": ".py",
   "mimetype": "text/x-python",
   "name": "python",
   "nbconvert_exporter": "python",
   "pygments_lexer": "ipython3",
   "version": "3.9.13"
  }
 },
 "nbformat": 4,
 "nbformat_minor": 5
}
